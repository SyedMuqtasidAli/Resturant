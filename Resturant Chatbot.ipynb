{
 "cells": [
  {
   "cell_type": "code",
   "execution_count": 1,
   "id": "35ab5a11-84cb-4a9b-82a8-636f6c4dd55a",
   "metadata": {},
   "outputs": [],
   "source": [
    "import numpy as np\n",
    "import pandas as pd"
   ]
  },
  {
   "cell_type": "code",
   "execution_count": 4,
   "id": "d41be08c-c3b1-42a1-bd39-e09a936e50f9",
   "metadata": {
    "tags": []
   },
   "outputs": [],
   "source": [
    "# Read the dataset from the specified file path into a Pandas DataFrame\n",
    "data = pd.read_csv('C:/Users/Syed Muqtasid Ali/Downloads/Compressed/data/Resturant Business Diary.csv')\n"
   ]
  },
  {
   "cell_type": "code",
   "execution_count": 6,
   "id": "ad73558c-71e0-43e2-9080-c12370c97604",
   "metadata": {
    "tags": []
   },
   "outputs": [
    {
     "data": {
      "text/html": [
       "<div>\n",
       "<style scoped>\n",
       "    .dataframe tbody tr th:only-of-type {\n",
       "        vertical-align: middle;\n",
       "    }\n",
       "\n",
       "    .dataframe tbody tr th {\n",
       "        vertical-align: top;\n",
       "    }\n",
       "\n",
       "    .dataframe thead th {\n",
       "        text-align: right;\n",
       "    }\n",
       "</style>\n",
       "<table border=\"1\" class=\"dataframe\">\n",
       "  <thead>\n",
       "    <tr style=\"text-align: right;\">\n",
       "      <th></th>\n",
       "      <th>ID_TA</th>\n",
       "      <th>name</th>\n",
       "      <th>closed</th>\n",
       "      <th>inactive</th>\n",
       "      <th>name_changed</th>\n",
       "      <th>rating</th>\n",
       "      <th>claimed</th>\n",
       "      <th>primary_cus</th>\n",
       "      <th>city</th>\n",
       "      <th>cuisines</th>\n",
       "      <th>...</th>\n",
       "      <th>cus_rest_count</th>\n",
       "      <th>address</th>\n",
       "      <th>mail</th>\n",
       "      <th>tel</th>\n",
       "      <th>review_number</th>\n",
       "      <th>reviews</th>\n",
       "      <th>review_dates</th>\n",
       "      <th>review_ratings</th>\n",
       "      <th>orig_url</th>\n",
       "      <th>URL_TA</th>\n",
       "    </tr>\n",
       "  </thead>\n",
       "  <tbody>\n",
       "    <tr>\n",
       "      <th>0</th>\n",
       "      <td>d9328394</td>\n",
       "      <td>Pizza School</td>\n",
       "      <td>0.0</td>\n",
       "      <td>0</td>\n",
       "      <td>0</td>\n",
       "      <td>4.0</td>\n",
       "      <td>0.0</td>\n",
       "      <td>Unknown</td>\n",
       "      <td>Seoul</td>\n",
       "      <td>NaN</td>\n",
       "      <td>...</td>\n",
       "      <td>NaN</td>\n",
       "      <td>224, World Cup Buk-Ro, Seoul South Korea</td>\n",
       "      <td>0.0</td>\n",
       "      <td>+82 2-372-1988</td>\n",
       "      <td>1</td>\n",
       "      <td>NaN</td>\n",
       "      <td>February 7, 2017</td>\n",
       "      <td>NaN</td>\n",
       "      <td>https://www.tripadvisor.com/Restaurant_Review-...</td>\n",
       "      <td>https://www.tripadvisor.com/Restaurant_Review-...</td>\n",
       "    </tr>\n",
       "    <tr>\n",
       "      <th>1</th>\n",
       "      <td>d9337164</td>\n",
       "      <td>Pujimi Tripes</td>\n",
       "      <td>0.0</td>\n",
       "      <td>0</td>\n",
       "      <td>0</td>\n",
       "      <td>4.5</td>\n",
       "      <td>0.0</td>\n",
       "      <td>Unknown</td>\n",
       "      <td>Seoul</td>\n",
       "      <td>NaN</td>\n",
       "      <td>...</td>\n",
       "      <td>NaN</td>\n",
       "      <td>23, cheonhoyet14-Gil, Seoul South Korea</td>\n",
       "      <td>0.0</td>\n",
       "      <td>NaN</td>\n",
       "      <td>3</td>\n",
       "      <td>NaN</td>\n",
       "      <td>November 12, 2019 ,February 4, 2019 ,March 27,...</td>\n",
       "      <td>NaN</td>\n",
       "      <td>https://www.tripadvisor.com/Restaurant_Review-...</td>\n",
       "      <td>https://www.tripadvisor.com/Restaurant_Review-...</td>\n",
       "    </tr>\n",
       "    <tr>\n",
       "      <th>2</th>\n",
       "      <td>d8956216</td>\n",
       "      <td>Bangung</td>\n",
       "      <td>0.0</td>\n",
       "      <td>0</td>\n",
       "      <td>0</td>\n",
       "      <td>4.5</td>\n",
       "      <td>0.0</td>\n",
       "      <td>Unknown</td>\n",
       "      <td>Seoul</td>\n",
       "      <td>NaN</td>\n",
       "      <td>...</td>\n",
       "      <td>NaN</td>\n",
       "      <td>17, Gangseo-ro56-Gil, Seoul South Korea</td>\n",
       "      <td>0.0</td>\n",
       "      <td>NaN</td>\n",
       "      <td>5</td>\n",
       "      <td>NaN</td>\n",
       "      <td>February 26, 2020 ,January 15, 2020 ,September...</td>\n",
       "      <td>NaN</td>\n",
       "      <td>https://www.tripadvisor.com/Restaurant_Review-...</td>\n",
       "      <td>https://www.tripadvisor.com/Restaurant_Review-...</td>\n",
       "    </tr>\n",
       "    <tr>\n",
       "      <th>3</th>\n",
       "      <td>d9335213</td>\n",
       "      <td>Donsoobaek - Gangnam Station Direct Store</td>\n",
       "      <td>0.0</td>\n",
       "      <td>0</td>\n",
       "      <td>0</td>\n",
       "      <td>4.5</td>\n",
       "      <td>0.0</td>\n",
       "      <td>Asian</td>\n",
       "      <td>Seoul</td>\n",
       "      <td>Asian, Korean</td>\n",
       "      <td>...</td>\n",
       "      <td>3565.0</td>\n",
       "      <td>13, Gangnam-daero 110-gil, Gangnam-gu, Seoul 0...</td>\n",
       "      <td>0.0</td>\n",
       "      <td>+82 2-539-3132</td>\n",
       "      <td>7</td>\n",
       "      <td>Nothing special, but the stew is neat and the ...</td>\n",
       "      <td>February 1, 2018</td>\n",
       "      <td>NaN</td>\n",
       "      <td>https://www.tripadvisor.com/Restaurant_Review-...</td>\n",
       "      <td>https://www.tripadvisor.com/Restaurant_Review-...</td>\n",
       "    </tr>\n",
       "    <tr>\n",
       "      <th>4</th>\n",
       "      <td>d9334370</td>\n",
       "      <td>Pork Mo U</td>\n",
       "      <td>0.0</td>\n",
       "      <td>0</td>\n",
       "      <td>0</td>\n",
       "      <td>4.0</td>\n",
       "      <td>0.0</td>\n",
       "      <td>Unknown</td>\n",
       "      <td>Seoul</td>\n",
       "      <td>NaN</td>\n",
       "      <td>...</td>\n",
       "      <td>NaN</td>\n",
       "      <td>26, Nohae-ro69-Gil, Seoul South Korea</td>\n",
       "      <td>0.0</td>\n",
       "      <td>NaN</td>\n",
       "      <td>1</td>\n",
       "      <td>NaN</td>\n",
       "      <td>October 27, 2017</td>\n",
       "      <td>NaN</td>\n",
       "      <td>https://www.tripadvisor.com/Restaurant_Review-...</td>\n",
       "      <td>https://www.tripadvisor.com/Restaurant_Review-...</td>\n",
       "    </tr>\n",
       "  </tbody>\n",
       "</table>\n",
       "<p>5 rows × 28 columns</p>\n",
       "</div>"
      ],
      "text/plain": [
       "      ID_TA                                       name  closed  inactive  \\\n",
       "0  d9328394                               Pizza School     0.0         0   \n",
       "1  d9337164                              Pujimi Tripes     0.0         0   \n",
       "2  d8956216                                    Bangung     0.0         0   \n",
       "3  d9335213  Donsoobaek - Gangnam Station Direct Store     0.0         0   \n",
       "4  d9334370                                  Pork Mo U     0.0         0   \n",
       "\n",
       "   name_changed rating  claimed primary_cus   city       cuisines  ...  \\\n",
       "0             0    4.0      0.0     Unknown  Seoul            NaN  ...   \n",
       "1             0    4.5      0.0     Unknown  Seoul            NaN  ...   \n",
       "2             0    4.5      0.0     Unknown  Seoul            NaN  ...   \n",
       "3             0    4.5      0.0       Asian  Seoul  Asian, Korean  ...   \n",
       "4             0    4.0      0.0     Unknown  Seoul            NaN  ...   \n",
       "\n",
       "  cus_rest_count                                            address  mail  \\\n",
       "0            NaN           224, World Cup Buk-Ro, Seoul South Korea   0.0   \n",
       "1            NaN            23, cheonhoyet14-Gil, Seoul South Korea   0.0   \n",
       "2            NaN            17, Gangseo-ro56-Gil, Seoul South Korea   0.0   \n",
       "3         3565.0  13, Gangnam-daero 110-gil, Gangnam-gu, Seoul 0...   0.0   \n",
       "4            NaN              26, Nohae-ro69-Gil, Seoul South Korea   0.0   \n",
       "\n",
       "              tel  review_number  \\\n",
       "0  +82 2-372-1988              1   \n",
       "1             NaN              3   \n",
       "2             NaN              5   \n",
       "3  +82 2-539-3132              7   \n",
       "4             NaN              1   \n",
       "\n",
       "                                             reviews  \\\n",
       "0                                                NaN   \n",
       "1                                                NaN   \n",
       "2                                                NaN   \n",
       "3  Nothing special, but the stew is neat and the ...   \n",
       "4                                                NaN   \n",
       "\n",
       "                                        review_dates  review_ratings  \\\n",
       "0                                  February 7, 2017              NaN   \n",
       "1  November 12, 2019 ,February 4, 2019 ,March 27,...             NaN   \n",
       "2  February 26, 2020 ,January 15, 2020 ,September...             NaN   \n",
       "3                                  February 1, 2018              NaN   \n",
       "4                                  October 27, 2017              NaN   \n",
       "\n",
       "                                            orig_url  \\\n",
       "0  https://www.tripadvisor.com/Restaurant_Review-...   \n",
       "1  https://www.tripadvisor.com/Restaurant_Review-...   \n",
       "2  https://www.tripadvisor.com/Restaurant_Review-...   \n",
       "3  https://www.tripadvisor.com/Restaurant_Review-...   \n",
       "4  https://www.tripadvisor.com/Restaurant_Review-...   \n",
       "\n",
       "                                              URL_TA  \n",
       "0  https://www.tripadvisor.com/Restaurant_Review-...  \n",
       "1  https://www.tripadvisor.com/Restaurant_Review-...  \n",
       "2  https://www.tripadvisor.com/Restaurant_Review-...  \n",
       "3  https://www.tripadvisor.com/Restaurant_Review-...  \n",
       "4  https://www.tripadvisor.com/Restaurant_Review-...  \n",
       "\n",
       "[5 rows x 28 columns]"
      ]
     },
     "execution_count": 6,
     "metadata": {},
     "output_type": "execute_result"
    }
   ],
   "source": [
    "data.head()"
   ]
  },
  {
   "cell_type": "code",
   "execution_count": 7,
   "id": "d0b9a900-076b-4e96-a839-eec114a0ea77",
   "metadata": {
    "tags": []
   },
   "outputs": [],
   "source": [
    "# Select the desired columns: name, address, tel, cuisines, pricing, rating, reviews\n",
    "data = data[['name', 'address', 'tel', 'cuisines', 'pricing', 'rating', 'reviews']]\n"
   ]
  },
  {
   "cell_type": "code",
   "execution_count": 8,
   "id": "672d656b-7bc6-416d-bd36-de339f16606c",
   "metadata": {
    "tags": []
   },
   "outputs": [],
   "source": [
    "# Check for missing values in the DataFrame\n",
    "missing_values = data.isnull().sum()"
   ]
  },
  {
   "cell_type": "code",
   "execution_count": 9,
   "id": "56c1fede-7318-486a-8f8b-08830eca8227",
   "metadata": {
    "tags": []
   },
   "outputs": [],
   "source": [
    "# Remove rows with missing values\n",
    "data.dropna(inplace=True)"
   ]
  },
  {
   "cell_type": "code",
   "execution_count": 10,
   "id": "7614160e-5c59-4862-b208-b87a5e769a25",
   "metadata": {
    "tags": []
   },
   "outputs": [],
   "source": [
    "# Remove duplicate rows from the DataFrame\n",
    "data.drop_duplicates(inplace=True)"
   ]
  },
  {
   "cell_type": "code",
   "execution_count": 11,
   "id": "531ad533-36e1-407a-b3b8-cc158145ff4b",
   "metadata": {
    "tags": []
   },
   "outputs": [],
   "source": [
    "# Restrict the DataFrame to the first 8000 entries\n",
    "data = data.head(8000)"
   ]
  },
  {
   "cell_type": "code",
   "execution_count": 12,
   "id": "cd598401-7bf5-48e8-96db-39efdda28a1d",
   "metadata": {
    "tags": []
   },
   "outputs": [
    {
     "name": "stdout",
     "output_type": "stream",
     "text": [
      "                    name                                          address  \\\n",
      "18  Bar Restaurant Le 17        10 rue Bernard Buffet, 75017 Paris France   \n",
      "20           Dolce Crema          3 The Broadway, London SW13 0NY England   \n",
      "22               Panella         15 Golborne Road, London W10 5NY England   \n",
      "23                Flunch             21 rue Beaubourg, 75003 Paris France   \n",
      "26      Le P'tit Bougnat  118 boulevard de Courcelles, 75017 Paris France   \n",
      "\n",
      "                  tel                         cuisines   pricing rating  \\\n",
      "18  +33 1 40 25 20 20            French, Mediterranean  $$ - $$$    2.5   \n",
      "20   +44 20 8127 0988                             Cafe  $$ - $$$    4.5   \n",
      "22    +44 7467 496655  Italian, British, Mediterranean         $    4.5   \n",
      "23  +33 1 40 29 09 78                French, Fast Food         $    3.5   \n",
      "26  +33 1 47 63 97 11                 French, European  $$ - $$$    3.5   \n",
      "\n",
      "                                              reviews  \n",
      "18  We ordered a pizza, fish and chips and pesto p...  \n",
      "20  I've used this cafe for the past few days to t...  \n",
      "22  The locals and Italians know about this place ...  \n",
      "23  We have eaten there probably 25+ times over th...  \n",
      "26  It was a cold, rainy evening.  We walked the s...  \n"
     ]
    }
   ],
   "source": [
    "# Display the first few rows of the DataFrame\n",
    "print(data.head())"
   ]
  },
  {
   "cell_type": "code",
   "execution_count": 13,
   "id": "cbf70e33-2ccd-4279-bc93-3c5835acac66",
   "metadata": {
    "tags": []
   },
   "outputs": [
    {
     "name": "stdout",
     "output_type": "stream",
     "text": [
      "<class 'pandas.core.frame.DataFrame'>\n",
      "Int64Index: 8000 entries, 18 to 25087\n",
      "Data columns (total 7 columns):\n",
      " #   Column    Non-Null Count  Dtype \n",
      "---  ------    --------------  ----- \n",
      " 0   name      8000 non-null   object\n",
      " 1   address   8000 non-null   object\n",
      " 2   tel       8000 non-null   object\n",
      " 3   cuisines  8000 non-null   object\n",
      " 4   pricing   8000 non-null   object\n",
      " 5   rating    8000 non-null   object\n",
      " 6   reviews   8000 non-null   object\n",
      "dtypes: object(7)\n",
      "memory usage: 500.0+ KB\n",
      "None\n"
     ]
    }
   ],
   "source": [
    "# Display the information about the DataFrame\n",
    "print(data.info())"
   ]
  },
  {
   "cell_type": "code",
   "execution_count": 14,
   "id": "ae8638ac-ca7b-436f-b1e0-d5139d4a0656",
   "metadata": {
    "tags": []
   },
   "outputs": [
    {
     "name": "stdout",
     "output_type": "stream",
     "text": [
      "             name                                            address  \\\n",
      "count        8000                                               8000   \n",
      "unique       7665                                               7840   \n",
      "top     Starbucks  4-20 Ofukacho Kita-Ku Grand Front Osaka South ...   \n",
      "freq           27                                                  6   \n",
      "\n",
      "                     tel cuisines   pricing rating  \\\n",
      "count               8000     8000      8000   8000   \n",
      "unique              7888     2172         3      9   \n",
      "top     +44 20 7734 8040   French  $$ - $$$    4.0   \n",
      "freq                   4      413      5800   2992   \n",
      "\n",
      "                                                  reviews  \n",
      "count                                                8000  \n",
      "unique                                               8000  \n",
      "top     We ordered a pizza, fish and chips and pesto p...  \n",
      "freq                                                    1  \n"
     ]
    }
   ],
   "source": [
    "# Display the descriptive statistics of the DataFrame\n",
    "print(data.describe())"
   ]
  },
  {
   "cell_type": "markdown",
   "id": "e13cb36f-c4e5-4517-a834-a257f0aae759",
   "metadata": {},
   "source": [
    "# NOTE\n",
    "To implement a natural language understanding module using spaCy and NLTK in Python to extract key information from user queries, such as location, cuisine preferences, and budget constraints, we'll first need to install the required libraries if you haven't already. You can install them using pip:"
   ]
  },
  {
   "cell_type": "code",
   "execution_count": 17,
   "id": "d8ee0299-e0a5-483d-8e41-17539def1f2f",
   "metadata": {
    "tags": []
   },
   "outputs": [],
   "source": [
    "import spacy"
   ]
  },
  {
   "cell_type": "code",
   "execution_count": 18,
   "id": "8545f67c-367b-49b8-ae10-789a08d00857",
   "metadata": {
    "tags": []
   },
   "outputs": [],
   "source": [
    "from nltk import word_tokenize\n"
   ]
  },
  {
   "cell_type": "code",
   "execution_count": 23,
   "id": "c52ca7f7-64ed-4723-b0c8-b97b599a5cc9",
   "metadata": {
    "tags": []
   },
   "outputs": [
    {
     "name": "stdout",
     "output_type": "stream",
     "text": [
      "\n",
      "User Input is: Find restaurants in England with a budget of $50 per person & Mediterranean food\n",
      "\n",
      "Natural Language Understanding Module Running (In Backend Visible Mode)..\n",
      "\n",
      "\n",
      "Extracted Information -->\n",
      "\n",
      "Location : England\n",
      "Budget : 50\n",
      "Cuisine Preferences: Mediterranean \n",
      "\n"
     ]
    },
    {
     "data": {
      "text/plain": [
       "['England', '50', 'Mediterranean']"
      ]
     },
     "execution_count": 23,
     "metadata": {},
     "output_type": "execute_result"
    }
   ],
   "source": [
    "def naturalLanguageUnderstandingModule(user_input, backend_visible=False):\n",
    "    if backend_visible:  # FOR Testing purposes\n",
    "        print(\"\\nUser Input is:\", user_input)\n",
    "        print('\\nNatural Language Understanding Module Running (In Backend Visible Mode)..\\n')\n",
    "\n",
    "    # Tokenizing the input\n",
    "    tokens = word_tokenize(user_input)\n",
    "\n",
    "    # Loading the spaCy English model\n",
    "    nlp = spacy.load(\"en_core_web_sm\")\n",
    "\n",
    "    # Extracting relevant entities [ENTITY RECOGNITION]\n",
    "    relevant_entities = []\n",
    "    for ent in nlp(user_input).ents:\n",
    "        if ent.label_ in [\"GPE\", \"LOC\"]:  # Location entities\n",
    "            relevant_entities.append((\"Location\", ent.text))\n",
    "        elif ent.label_ == \"MONEY\":  # Budget entities\n",
    "            relevant_entities.append((\"Budget\", ent.text))\n",
    "\n",
    "    # Assuming 'data' is your DataFrame with columns 'cuisines'\n",
    "    cuisine_keywords = list(data['cuisines'].values)\n",
    "\n",
    "    # Extracting cuisine preferences using keyword matching method\n",
    "    cuisine_pref = []\n",
    "    for token in tokens:\n",
    "        for tokens2 in cuisine_keywords:\n",
    "            tokens3 = str(tokens2).split(\",\")  # This is to cater list of lists\n",
    "            for token4 in tokens3:\n",
    "                token = token.replace(\" \", \"\")  # Removing spaces\n",
    "                token4 = token4.replace(\" \", \"\")\n",
    "                if token.lower() == token4.lower():\n",
    "                    cuisine_pref.append(token)\n",
    "\n",
    "    result = []\n",
    "\n",
    "    if backend_visible:  # FOR Testing purposes, Printing the extracted information:\n",
    "        print(\"\\nExtracted Information -->\\n\")\n",
    "        for Type, Value in relevant_entities:\n",
    "            print(Type, \":\", Value)\n",
    "            result.append(Value)\n",
    "\n",
    "    cuisine_pref = list(dict.fromkeys(cuisine_pref))  # Removing duplicates\n",
    "    cuisine_pref = ' '.join(cuisine_pref)  # Converting to String\n",
    "    result.append(cuisine_pref)\n",
    "\n",
    "    if backend_visible:  # FOR Testing purposes\n",
    "        print(\"Cuisine Preferences:\", cuisine_pref, '\\n')\n",
    "        \n",
    "    return result\n",
    "\n",
    "# Example Input\n",
    "inp = \"Find restaurants in England with a budget of $50 per person & Mediterranean food\"\n",
    "# Pass False to hide backend working\n",
    "# naturalLanguageUnderstandingModule(inp, False)\n",
    "# Pass True to see how backend works\n",
    "naturalLanguageUnderstandingModule(inp, True)\n"
   ]
  },
  {
   "cell_type": "markdown",
   "id": "61e2fffd-533c-45e1-8eec-67bb33f1b1dd",
   "metadata": {
    "tags": []
   },
   "source": [
    "### Import necessary libraries:\n",
    "\n",
    "Import word_tokenize from the nltk library for tokenizing the user input.\n",
    "Import spacy for named entity recognition and part-of-speech tagging.\n",
    "Define the function naturalLanguageUnderstandingModule:\n",
    "\n",
    "### This function takes two arguments:\n",
    "### user_input: \n",
    "The user's query in natural language.\n",
    "### backend_visible (optional):\n",
    "A boolean flag to control whether to display backend information for testing purposes.\n",
    "#### Check if backend_visible is True:\n",
    "\n",
    "If backend_visible is True, it prints the user input and the module's execution status for testing purposes.\n",
    "### Tokenize the user input:\n",
    "\n",
    "The user input is tokenized using NLTK's word_tokenize function to convert the input text into individual tokens.\n",
    "### Load the spaCy English model:\n",
    "\n",
    "The spaCy English model (en_core_web_sm) is loaded using spacy.load() to enable named entity recognition.\n",
    "### Extract relevant entities:\n",
    "\n",
    "The function uses spaCy's named entity recognition (nlp(user_input).ents) to identify relevant entities such as locations and budget values in the user input.\n",
    "If an entity has the label \"GPE\" (Geopolitical Entity) or \"LOC\" (Location), it is considered as a location entity.\n",
    "If an entity has the label \"MONEY\", it is considered as a budget entity.\n",
    "### Define common cuisine keywords:\n",
    "\n",
    "The function assumes that you have a DataFrame named data with a column named 'cuisines'.\n",
    "It retrieves the cuisine keywords from the 'cuisines' column and stores them in the cuisine_keywords list.\n",
    "### Extract cuisine preferences using keyword matching:\n",
    "\n",
    "The function compares each token in the user input with the cuisine keywords.\n",
    "If there is a match (case-insensitive), it considers that token as a cuisine preference and adds it to the cuisine_pref list.\n",
    "### Prepare the result:\n",
    "\n",
    "The function creates an empty list called result to store the extracted information.\n",
    "### Print extracted information (for testing):\n",
    "\n",
    "If backend_visible is True, the function prints the extracted entities (locations and budget) and cuisine preferences.\n",
    "### Remove duplicate cuisine preferences:\n",
    "\n",
    "The function removes any duplicate cuisine preferences from the cuisine_pref list using dict.fromkeys().\n",
    "### Convert cuisine preferences to a single string:\n",
    "\n",
    "The function converts the list of cuisine preferences into a single string separated by spaces.\n",
    "Append cuisine preferences to the result list.\n",
    "\n",
    "### Return the result:\n",
    "\n",
    "The function returns the result list, which contains the extracted location, budget, and cuisine preferences.\n",
    "### Test the function with an example input:\n",
    "\n",
    "The function is tested using an example input string.\n",
    "You can call the function with different user queries to extract key information from them.\n",
    "Remember to replace the DataFrame variable name 'data' with your actual DataFrame variable name if it's named differently in your code. Additionally, ensure that you have installed the necessary libraries and models before running the code."
   ]
  },
  {
   "cell_type": "markdown",
   "id": "029be6c4-4dad-4ce5-abf7-bd2249f91bdd",
   "metadata": {},
   "source": [
    "# Step 3: Recommendation System\n",
    "In this step, we'll develop a recommendation system that takes the extracted user preferences as input and retrieves relevant restaurants from the dataset. We'll consider using techniques like content-based filtering or collaborative filtering to generate personalized recommendations based on user preferences and past interactions."
   ]
  },
  {
   "cell_type": "code",
   "execution_count": 24,
   "id": "38ab0dca-026b-43a1-9827-953a03a4fc36",
   "metadata": {
    "tags": []
   },
   "outputs": [],
   "source": [
    "from sklearn.feature_extraction.text import TfidfVectorizer\n",
    "from sklearn.metrics.pairwise import cosine_similarity\n",
    "from IPython.display import display\n",
    "from colorama import Fore, Back, Style\n",
    "from timeit import default_timer as timer"
   ]
  },
  {
   "cell_type": "code",
   "execution_count": 25,
   "id": "565ec4b8-9531-48e6-9d33-0ceacbd225bd",
   "metadata": {
    "tags": []
   },
   "outputs": [],
   "source": [
    "# Assuming 'data' is the DataFrame containing restaurant information\n",
    "# with columns 'name', 'address', 'tel', 'cuisines', 'pricing', 'rating', 'reviews'\n",
    "\n",
    "def create_combined_feature(data):\n",
    "    # Creating a combined feature for recommendation using relevant columns\n",
    "    data['features'] = data['cuisines'] + ' ' + data['pricing'] + ' ' + data['address'] + ' ' + data['rating']\n",
    "    data.reset_index(drop=True, inplace=True)\n",
    "\n",
    "    # Vectorizing the combined features\n",
    "    vectorizer = TfidfVectorizer(stop_words='english')\n",
    "    tfidf_matrix = vectorizer.fit_transform(data['features'])\n",
    "\n",
    "    # Computing similarity scores\n",
    "    cosine_similarities = cosine_similarity(tfidf_matrix)\n",
    "\n",
    "    return data, cosine_similarities"
   ]
  },
  {
   "cell_type": "code",
   "execution_count": 26,
   "id": "f55609cd-34c1-4808-ac72-b5fb77aa1b04",
   "metadata": {
    "tags": []
   },
   "outputs": [],
   "source": [
    "# Returns Top N Recommendations based on user preferences (By default 3)\n",
    "def get_recommendations(preferences, data, cosine_similarities, top_n=3):\n",
    "    # Filtering the restaurants that match the user preferences\n",
    "    matching_res = data[data['cuisines'].apply(lambda x: any(pref.lower() in x.lower() for pref in preferences))]\n",
    "\n",
    "    if len(matching_res) == 0:\n",
    "        return \"No matching restaurants found.\"\n",
    "\n",
    "    # Calculating the average similarity scores for all matching restaurants:\n",
    "    avg_similarities = np.nanmean(cosine_similarities[matching_res.index], axis=0)\n",
    "    avg_similarities[np.isnan(avg_similarities)] = 0  # Replacing NaN values with 0\n",
    "\n",
    "    top_indices = avg_similarities.argsort()[:-top_n-1:-1]  # Saving indices of top N recommended restaurants\n",
    "    recommendations = data.iloc[top_indices]  # Storing Recommended Restaurants FULL Details\n",
    "    return recommendations"
   ]
  },
  {
   "cell_type": "code",
   "execution_count": 31,
   "id": "f7bd939b-7c3c-4c2f-b352-11ebc800c32b",
   "metadata": {
    "tags": []
   },
   "outputs": [],
   "source": [
    "def get_recommendations_wrapper(preferences, data, cosine_similarities, n):\n",
    "    start = timer()\n",
    "    recommendations = get_recommendations(preferences, data, cosine_similarities, n)\n",
    "    end = timer()\n",
    "    time_taken = round(end - start, 4)  # As most search engines have time taken calculation\n",
    "\n",
    "    if isinstance(recommendations, str):\n",
    "        print(recommendations)\n",
    "        return 'None'\n",
    "    else:\n",
    "        print(Fore.RED + \"\\n Displaying  Top FIVE \", n,\n",
    "              \"Recommended Restaurants Results (in\", time_taken, \"seconds)\")\n",
    "        display(recommendations)\n",
    "        return recommendations"
   ]
  },
  {
   "cell_type": "code",
   "execution_count": 32,
   "id": "1c28e359-1593-445d-8bde-9b91384476e6",
   "metadata": {
    "tags": []
   },
   "outputs": [
    {
     "name": "stdout",
     "output_type": "stream",
     "text": [
      "\u001b[31m\n",
      " Displaying  Top FIVE  5 Recommended Restaurants Results (in 0.2361 seconds)\n"
     ]
    },
    {
     "data": {
      "text/html": [
       "<div>\n",
       "<style scoped>\n",
       "    .dataframe tbody tr th:only-of-type {\n",
       "        vertical-align: middle;\n",
       "    }\n",
       "\n",
       "    .dataframe tbody tr th {\n",
       "        vertical-align: top;\n",
       "    }\n",
       "\n",
       "    .dataframe thead th {\n",
       "        text-align: right;\n",
       "    }\n",
       "</style>\n",
       "<table border=\"1\" class=\"dataframe\">\n",
       "  <thead>\n",
       "    <tr style=\"text-align: right;\">\n",
       "      <th></th>\n",
       "      <th>name</th>\n",
       "      <th>address</th>\n",
       "      <th>tel</th>\n",
       "      <th>cuisines</th>\n",
       "      <th>pricing</th>\n",
       "      <th>rating</th>\n",
       "      <th>reviews</th>\n",
       "      <th>features</th>\n",
       "    </tr>\n",
       "  </thead>\n",
       "  <tbody>\n",
       "    <tr>\n",
       "      <th>6690</th>\n",
       "      <td>Le Pré</td>\n",
       "      <td>4 rue du Four, 75006 Paris France</td>\n",
       "      <td>+33 1 40 46 93 22</td>\n",
       "      <td>French, Brew Pub, Bar, European</td>\n",
       "      <td>$$ - $$$</td>\n",
       "      <td>4.0</td>\n",
       "      <td>With a friend, we went to have a coffee at aro...</td>\n",
       "      <td>French, Brew Pub, Bar, European $$ - $$$ 4 rue...</td>\n",
       "    </tr>\n",
       "    <tr>\n",
       "      <th>7593</th>\n",
       "      <td>Cafe Notre Dame</td>\n",
       "      <td>Paris France</td>\n",
       "      <td>+33 1 43 25 97 27</td>\n",
       "      <td>French, Cafe</td>\n",
       "      <td>$$ - $$$</td>\n",
       "      <td>3.0</td>\n",
       "      <td>We stopped in for a quick light breakfast and ...</td>\n",
       "      <td>French, Cafe $$ - $$$ Paris France 3.0</td>\n",
       "    </tr>\n",
       "    <tr>\n",
       "      <th>83</th>\n",
       "      <td>Chez Julien</td>\n",
       "      <td>2 rue Lepic, 75018 Paris France</td>\n",
       "      <td>+33 1 42 64 21 20</td>\n",
       "      <td>French, Bar, Cafe, European</td>\n",
       "      <td>$$ - $$$</td>\n",
       "      <td>4.0</td>\n",
       "      <td>We were hungry and randomly walked in to grab ...</td>\n",
       "      <td>French, Bar, Cafe, European $$ - $$$ 2 rue Lep...</td>\n",
       "    </tr>\n",
       "    <tr>\n",
       "      <th>76</th>\n",
       "      <td>Pomme de Pain</td>\n",
       "      <td>20 Rue de France, Paris France</td>\n",
       "      <td>+33 1 64 22 18 36</td>\n",
       "      <td>French</td>\n",
       "      <td>$</td>\n",
       "      <td>4.0</td>\n",
       "      <td>On a lunch break on a journey through Picardy ...</td>\n",
       "      <td>French $ 20 Rue de France, Paris France 4.0</td>\n",
       "    </tr>\n",
       "    <tr>\n",
       "      <th>6685</th>\n",
       "      <td>L'esplanade Saint Eustache</td>\n",
       "      <td>1 rue de Turbigo, 75001 Paris France</td>\n",
       "      <td>+33 1 45 08 53 03</td>\n",
       "      <td>French, Bar, European</td>\n",
       "      <td>$$ - $$$</td>\n",
       "      <td>3.5</td>\n",
       "      <td>Lunch here today and it always ok. Steak and f...</td>\n",
       "      <td>French, Bar, European $$ - $$$ 1 rue de Turbig...</td>\n",
       "    </tr>\n",
       "  </tbody>\n",
       "</table>\n",
       "</div>"
      ],
      "text/plain": [
       "                            name                               address  \\\n",
       "6690                      Le Pré     4 rue du Four, 75006 Paris France   \n",
       "7593             Cafe Notre Dame                          Paris France   \n",
       "83                   Chez Julien       2 rue Lepic, 75018 Paris France   \n",
       "76                 Pomme de Pain        20 Rue de France, Paris France   \n",
       "6685  L'esplanade Saint Eustache  1 rue de Turbigo, 75001 Paris France   \n",
       "\n",
       "                    tel                         cuisines   pricing rating  \\\n",
       "6690  +33 1 40 46 93 22  French, Brew Pub, Bar, European  $$ - $$$    4.0   \n",
       "7593  +33 1 43 25 97 27                     French, Cafe  $$ - $$$    3.0   \n",
       "83    +33 1 42 64 21 20      French, Bar, Cafe, European  $$ - $$$    4.0   \n",
       "76    +33 1 64 22 18 36                           French         $    4.0   \n",
       "6685  +33 1 45 08 53 03            French, Bar, European  $$ - $$$    3.5   \n",
       "\n",
       "                                                reviews  \\\n",
       "6690  With a friend, we went to have a coffee at aro...   \n",
       "7593  We stopped in for a quick light breakfast and ...   \n",
       "83    We were hungry and randomly walked in to grab ...   \n",
       "76    On a lunch break on a journey through Picardy ...   \n",
       "6685  Lunch here today and it always ok. Steak and f...   \n",
       "\n",
       "                                               features  \n",
       "6690  French, Brew Pub, Bar, European $$ - $$$ 4 rue...  \n",
       "7593             French, Cafe $$ - $$$ Paris France 3.0  \n",
       "83    French, Bar, Cafe, European $$ - $$$ 2 rue Lep...  \n",
       "76          French $ 20 Rue de France, Paris France 4.0  \n",
       "6685  French, Bar, European $$ - $$$ 1 rue de Turbig...  "
      ]
     },
     "metadata": {},
     "output_type": "display_data"
    }
   ],
   "source": [
    "# Example PAST user preference\n",
    "user_pref = ['European', 'Paris']\n",
    "\n",
    "# Creating a combined feature and cosine similarity matrix\n",
    "data, cosine_similarities = create_combined_feature(data)\n",
    "\n",
    "# Getting top 5 Recommendations based on PAST user preference\n",
    "reco = get_recommendations_wrapper(user_pref, data, cosine_similarities, 5)"
   ]
  },
  {
   "cell_type": "markdown",
   "id": "f6219d85-9630-4905-a3cb-32a95a7070b1",
   "metadata": {},
   "source": [
    "# User Interface and Interaction\n",
    "In this step, we'll design a user interface for the chatbot to allow users to input their preferences and view the recommended restaurants. We'll implement a conversational flow that guides users through the interaction, asking for clarification when necessary."
   ]
  },
  {
   "cell_type": "code",
   "execution_count": 33,
   "id": "5b37147b-955d-4607-b486-1dc6ec086eec",
   "metadata": {
    "tags": []
   },
   "outputs": [],
   "source": [
    "from colorama import Fore, Back, Style"
   ]
  },
  {
   "cell_type": "code",
   "execution_count": null,
   "id": "e61fe66c-43da-47cb-b38f-a800af2ad08d",
   "metadata": {
    "tags": []
   },
   "outputs": [
    {
     "name": "stdout",
     "output_type": "stream",
     "text": [
      " \t\t\t Resturant Chatbot\n"
     ]
    },
    {
     "name": "stdin",
     "output_type": "stream",
     "text": [
      "Name?  Syed Muqtasid Ali\n"
     ]
    },
    {
     "name": "stdout",
     "output_type": "stream",
     "text": [
      "\u001b[40m\n",
      "\u001b[31m\n",
      "\n",
      " Welcome to the GlowingSoft Technologies's Restaurant Recommendation Chatbot Syed Muqtasid Ali !\n",
      "\n",
      "You may enter \"exit\" anytime to end\n"
     ]
    },
    {
     "name": "stdin",
     "output_type": "stream",
     "text": [
      "\n",
      "Greetings! How Can I Help You?\n",
      "\n",
      " Find me restaurants in Turbigo with French Food Available and a budget of $30\n"
     ]
    },
    {
     "name": "stdout",
     "output_type": "stream",
     "text": [
      "\u001b[37m\n",
      "\u001b[44m\n",
      "\u001b[0m\n"
     ]
    },
    {
     "name": "stdin",
     "output_type": "stream",
     "text": [
      "How many recommendations do you wish to receive?  5\n"
     ]
    },
    {
     "name": "stdout",
     "output_type": "stream",
     "text": [
      "\n",
      "Getting your recommendations...\n",
      "\u001b[31m\n",
      " Displaying  Top FIVE  5 Recommended Restaurants Results (in 0.2251 seconds)\n"
     ]
    },
    {
     "data": {
      "text/html": [
       "<div>\n",
       "<style scoped>\n",
       "    .dataframe tbody tr th:only-of-type {\n",
       "        vertical-align: middle;\n",
       "    }\n",
       "\n",
       "    .dataframe tbody tr th {\n",
       "        vertical-align: top;\n",
       "    }\n",
       "\n",
       "    .dataframe thead th {\n",
       "        text-align: right;\n",
       "    }\n",
       "</style>\n",
       "<table border=\"1\" class=\"dataframe\">\n",
       "  <thead>\n",
       "    <tr style=\"text-align: right;\">\n",
       "      <th></th>\n",
       "      <th>name</th>\n",
       "      <th>address</th>\n",
       "      <th>tel</th>\n",
       "      <th>cuisines</th>\n",
       "      <th>pricing</th>\n",
       "      <th>rating</th>\n",
       "      <th>reviews</th>\n",
       "      <th>features</th>\n",
       "    </tr>\n",
       "  </thead>\n",
       "  <tbody>\n",
       "    <tr>\n",
       "      <th>7593</th>\n",
       "      <td>Cafe Notre Dame</td>\n",
       "      <td>Paris France</td>\n",
       "      <td>+33 1 43 25 97 27</td>\n",
       "      <td>French, Cafe</td>\n",
       "      <td>$$ - $$$</td>\n",
       "      <td>3.0</td>\n",
       "      <td>We stopped in for a quick light breakfast and ...</td>\n",
       "      <td>French, Cafe $$ - $$$ Paris France 3.0</td>\n",
       "    </tr>\n",
       "    <tr>\n",
       "      <th>76</th>\n",
       "      <td>Pomme de Pain</td>\n",
       "      <td>20 Rue de France, Paris France</td>\n",
       "      <td>+33 1 64 22 18 36</td>\n",
       "      <td>French</td>\n",
       "      <td>$</td>\n",
       "      <td>4.0</td>\n",
       "      <td>On a lunch break on a journey through Picardy ...</td>\n",
       "      <td>French $ 20 Rue de France, Paris France 4.0</td>\n",
       "    </tr>\n",
       "    <tr>\n",
       "      <th>6690</th>\n",
       "      <td>Le Pré</td>\n",
       "      <td>4 rue du Four, 75006 Paris France</td>\n",
       "      <td>+33 1 40 46 93 22</td>\n",
       "      <td>French, Brew Pub, Bar, European</td>\n",
       "      <td>$$ - $$$</td>\n",
       "      <td>4.0</td>\n",
       "      <td>With a friend, we went to have a coffee at aro...</td>\n",
       "      <td>French, Brew Pub, Bar, European $$ - $$$ 4 rue...</td>\n",
       "    </tr>\n",
       "    <tr>\n",
       "      <th>83</th>\n",
       "      <td>Chez Julien</td>\n",
       "      <td>2 rue Lepic, 75018 Paris France</td>\n",
       "      <td>+33 1 42 64 21 20</td>\n",
       "      <td>French, Bar, Cafe, European</td>\n",
       "      <td>$$ - $$$</td>\n",
       "      <td>4.0</td>\n",
       "      <td>We were hungry and randomly walked in to grab ...</td>\n",
       "      <td>French, Bar, Cafe, European $$ - $$$ 2 rue Lep...</td>\n",
       "    </tr>\n",
       "    <tr>\n",
       "      <th>4649</th>\n",
       "      <td>Dupont Café Bibliothèque</td>\n",
       "      <td>84 avenue de France, 75013 Paris France</td>\n",
       "      <td>+33 1 44 97 41 84</td>\n",
       "      <td>Bar, French, European, Pub</td>\n",
       "      <td>$$ - $$$</td>\n",
       "      <td>2.5</td>\n",
       "      <td>Very nice staff and of course good food. They ...</td>\n",
       "      <td>Bar, French, European, Pub $$ - $$$ 84 avenue ...</td>\n",
       "    </tr>\n",
       "  </tbody>\n",
       "</table>\n",
       "</div>"
      ],
      "text/plain": [
       "                          name                                  address  \\\n",
       "7593           Cafe Notre Dame                             Paris France   \n",
       "76               Pomme de Pain           20 Rue de France, Paris France   \n",
       "6690                    Le Pré        4 rue du Four, 75006 Paris France   \n",
       "83                 Chez Julien          2 rue Lepic, 75018 Paris France   \n",
       "4649  Dupont Café Bibliothèque  84 avenue de France, 75013 Paris France   \n",
       "\n",
       "                    tel                         cuisines   pricing rating  \\\n",
       "7593  +33 1 43 25 97 27                     French, Cafe  $$ - $$$    3.0   \n",
       "76    +33 1 64 22 18 36                           French         $    4.0   \n",
       "6690  +33 1 40 46 93 22  French, Brew Pub, Bar, European  $$ - $$$    4.0   \n",
       "83    +33 1 42 64 21 20      French, Bar, Cafe, European  $$ - $$$    4.0   \n",
       "4649  +33 1 44 97 41 84       Bar, French, European, Pub  $$ - $$$    2.5   \n",
       "\n",
       "                                                reviews  \\\n",
       "7593  We stopped in for a quick light breakfast and ...   \n",
       "76    On a lunch break on a journey through Picardy ...   \n",
       "6690  With a friend, we went to have a coffee at aro...   \n",
       "83    We were hungry and randomly walked in to grab ...   \n",
       "4649  Very nice staff and of course good food. They ...   \n",
       "\n",
       "                                               features  \n",
       "7593             French, Cafe $$ - $$$ Paris France 3.0  \n",
       "76          French $ 20 Rue de France, Paris France 4.0  \n",
       "6690  French, Brew Pub, Bar, European $$ - $$$ 4 rue...  \n",
       "83    French, Bar, Cafe, European $$ - $$$ 2 rue Lep...  \n",
       "4649  Bar, French, European, Pub $$ - $$$ 84 avenue ...  "
      ]
     },
     "metadata": {},
     "output_type": "display_data"
    },
    {
     "name": "stdin",
     "output_type": "stream",
     "text": [
      "\n",
      "Would you like to save your recommendations in an excel file for future use? (yes/no)  yes\n"
     ]
    },
    {
     "name": "stdout",
     "output_type": "stream",
     "text": [
      "\n",
      "Recommendations saved to the file named userRecommendations1.xlsx\n"
     ]
    }
   ],
   "source": [
    "def user_interface():\n",
    "    print(\" \\t\\t\\t Resturant Chatbot\")\n",
    "    i = 1\n",
    "    name = input(\"Name? \")\n",
    "    print(Back.BLACK)\n",
    "    print(Fore.RED + \"\\n\\n Welcome to the GlowingSoft Technologies's Restaurant Recommendation Chatbot\", name, \"!\")\n",
    "    print('\\nYou may enter \"exit\" anytime to end')\n",
    "\n",
    "    while True:\n",
    "        # First User inputs preferences\n",
    "        preferences = input(\"\\nGreetings! How Can I Help You?\\n\\n\")\n",
    "        if preferences.lower() == 'exit':\n",
    "            print(Fore.WHITE)\n",
    "            print(Back.BLUE + 'Thank You for using our  Resturant Chat BotChatbot!')\n",
    "            break\n",
    "\n",
    "        print(Fore.WHITE)\n",
    "        print(Back.BLUE)\n",
    "        preferences = naturalLanguageUnderstandingModule(preferences)  # NLP\n",
    "\n",
    "        print(Style.RESET_ALL)\n",
    "\n",
    "        while True:  # Like a do-while loop to handle user input errors\n",
    "            n = input(\"How many recommendations do you wish to receive? \")  # Asking for more clarification\n",
    "            if not n.isnumeric():\n",
    "                print('\\nERROR! Invalid Input. Enter a number')\n",
    "            elif 0 < int(n) <= 800:\n",
    "                break\n",
    "            elif int(n) == 0:\n",
    "                print('\\nERROR! Please enter a valid number above 0!')\n",
    "            elif int(n) > 800:\n",
    "                print('\\nERROR! System can handle a maximum of 800 best matching recommendations.')  # 800 set after several testing\n",
    "            else:\n",
    "                print('\\nERROR! Invalid Input. Try Again')\n",
    "\n",
    "        print('\\nGetting your recommendations...')\n",
    "        reco = get_recommendations_wrapper(preferences, data, cosine_similarities, int(n))  # Generates & Displays Recommendations accordingly\n",
    "\n",
    "        if not isinstance(reco, str):  # If any recommendations were received\n",
    "            while True:  # TO SAVE RECOMMENDATIONS GIVEN BY SYSTEM\n",
    "                save = input('\\nWould you like to save your recommendations in an excel file for future use? (yes/no) ')\n",
    "                if save.lower() == 'yes':\n",
    "                    name_file = 'userRecommendations' + str(i) + '.xlsx'\n",
    "                    reco.to_excel(name_file)\n",
    "                    print('\\nRecommendations saved to the file named', name_file)\n",
    "                    break\n",
    "                elif save.lower() == 'no':\n",
    "                    print(\"\\nYour Recommendations won't be saved\")\n",
    "                    break\n",
    "                else:\n",
    "                    print('\\nERROR! Invalid Input. Try Again')\n",
    "\n",
    "        i = i + 1  # For naming file purposes so each recommendation is saved in a different file\n",
    "\n",
    "# Call the user interface function\n",
    "user_interface()\n"
   ]
  },
  {
   "cell_type": "markdown",
   "id": "c82b0582-b1d0-4292-8179-bb334c98e825",
   "metadata": {
    "tags": []
   },
   "source": [
    "# Explanation \n",
    "let's go through the step-by-step process of the updated code for the restaurant recommendation chatbot:\n",
    "\n",
    "The code starts by defining the user_interface() function.\n",
    "\n",
    "The function displays a welcome message and asks the user to enter their name.\n",
    "\n",
    "The user is then prompted to enter their preferences using the input() function. If the user enters 'exit', the chatbot thanks them and ends the conversation.\n",
    "\n",
    "The naturalLanguageUnderstandingModule() function is used to process the user's preferences using natural language processing techniques.\n",
    "\n",
    "After understanding the user's preferences, the chatbot asks how many recommendations the user wishes to receive, making sure the input is a valid number between 1 and 800.\n",
    "\n",
    "The get_recommendations_wrapper() function is called to generate and display restaurant recommendations based on the user's preferences and the number of recommendations requested.\n",
    "\n",
    "If recommendations are received, the chatbot asks if the user wants to save the recommendations in an Excel file for future use. If the user confirms, the recommendations are saved in an Excel file.\n",
    "\n",
    "The chatbot continues the interaction with the user, allowing them to input new preferences or exit the chatbot by entering 'exit'."
   ]
  },
  {
   "cell_type": "code",
   "execution_count": null,
   "id": "d7524a51-211f-46d1-9fb4-25d6e6f1d778",
   "metadata": {},
   "outputs": [],
   "source": []
  }
 ],
 "metadata": {
  "kernelspec": {
   "display_name": "Python 3 (ipykernel)",
   "language": "python",
   "name": "python3"
  },
  "language_info": {
   "codemirror_mode": {
    "name": "ipython",
    "version": 3
   },
   "file_extension": ".py",
   "mimetype": "text/x-python",
   "name": "python",
   "nbconvert_exporter": "python",
   "pygments_lexer": "ipython3",
   "version": "3.10.11"
  }
 },
 "nbformat": 4,
 "nbformat_minor": 5
}
